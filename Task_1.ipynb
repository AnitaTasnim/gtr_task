{
  "nbformat": 4,
  "nbformat_minor": 0,
  "metadata": {
    "colab": {
      "provenance": [],
      "authorship_tag": "ABX9TyOUYtrXn7DH4244wUVT4Ev9",
      "include_colab_link": true
    },
    "kernelspec": {
      "name": "python3",
      "display_name": "Python 3"
    },
    "language_info": {
      "name": "python"
    }
  },
  "cells": [
    {
      "cell_type": "markdown",
      "metadata": {
        "id": "view-in-github",
        "colab_type": "text"
      },
      "source": [
        "<a href=\"https://colab.research.google.com/github/AnitaTasnim/gtr_task/blob/main/Task_1.ipynb\" target=\"_parent\"><img src=\"https://colab.research.google.com/assets/colab-badge.svg\" alt=\"Open In Colab\"/></a>"
      ]
    },
    {
      "cell_type": "code",
      "source": [],
      "metadata": {
        "id": "7PY0iHz7VTiN"
      },
      "execution_count": null,
      "outputs": []
    },
    {
      "cell_type": "markdown",
      "source": [
        "#fghhh\n"
      ],
      "metadata": {
        "id": "HDXVjP7TVN4f"
      }
    },
    {
      "cell_type": "code",
      "execution_count": 1,
      "metadata": {
        "id": "9tgIGoVOUZJZ",
        "colab": {
          "base_uri": "https://localhost:8080/"
        },
        "outputId": "612bebff-df5f-4931-8790-0a0a2ecaf610"
      },
      "outputs": [
        {
          "output_type": "stream",
          "name": "stdout",
          "text": [
            "Requirement already satisfied: yfinance in /usr/local/lib/python3.12/dist-packages (0.2.66)\n",
            "Requirement already satisfied: pandas in /usr/local/lib/python3.12/dist-packages (2.2.2)\n",
            "Requirement already satisfied: numpy in /usr/local/lib/python3.12/dist-packages (2.0.2)\n",
            "Requirement already satisfied: matplotlib in /usr/local/lib/python3.12/dist-packages (3.10.0)\n",
            "Requirement already satisfied: requests>=2.31 in /usr/local/lib/python3.12/dist-packages (from yfinance) (2.32.4)\n",
            "Requirement already satisfied: multitasking>=0.0.7 in /usr/local/lib/python3.12/dist-packages (from yfinance) (0.0.12)\n",
            "Requirement already satisfied: platformdirs>=2.0.0 in /usr/local/lib/python3.12/dist-packages (from yfinance) (4.5.0)\n",
            "Requirement already satisfied: pytz>=2022.5 in /usr/local/lib/python3.12/dist-packages (from yfinance) (2025.2)\n",
            "Requirement already satisfied: frozendict>=2.3.4 in /usr/local/lib/python3.12/dist-packages (from yfinance) (2.4.6)\n",
            "Requirement already satisfied: peewee>=3.16.2 in /usr/local/lib/python3.12/dist-packages (from yfinance) (3.18.2)\n",
            "Requirement already satisfied: beautifulsoup4>=4.11.1 in /usr/local/lib/python3.12/dist-packages (from yfinance) (4.13.5)\n",
            "Requirement already satisfied: curl_cffi>=0.7 in /usr/local/lib/python3.12/dist-packages (from yfinance) (0.13.0)\n",
            "Requirement already satisfied: protobuf>=3.19.0 in /usr/local/lib/python3.12/dist-packages (from yfinance) (5.29.5)\n",
            "Requirement already satisfied: websockets>=13.0 in /usr/local/lib/python3.12/dist-packages (from yfinance) (15.0.1)\n",
            "Requirement already satisfied: python-dateutil>=2.8.2 in /usr/local/lib/python3.12/dist-packages (from pandas) (2.9.0.post0)\n",
            "Requirement already satisfied: tzdata>=2022.7 in /usr/local/lib/python3.12/dist-packages (from pandas) (2025.2)\n",
            "Requirement already satisfied: contourpy>=1.0.1 in /usr/local/lib/python3.12/dist-packages (from matplotlib) (1.3.3)\n",
            "Requirement already satisfied: cycler>=0.10 in /usr/local/lib/python3.12/dist-packages (from matplotlib) (0.12.1)\n",
            "Requirement already satisfied: fonttools>=4.22.0 in /usr/local/lib/python3.12/dist-packages (from matplotlib) (4.60.1)\n",
            "Requirement already satisfied: kiwisolver>=1.3.1 in /usr/local/lib/python3.12/dist-packages (from matplotlib) (1.4.9)\n",
            "Requirement already satisfied: packaging>=20.0 in /usr/local/lib/python3.12/dist-packages (from matplotlib) (25.0)\n",
            "Requirement already satisfied: pillow>=8 in /usr/local/lib/python3.12/dist-packages (from matplotlib) (11.3.0)\n",
            "Requirement already satisfied: pyparsing>=2.3.1 in /usr/local/lib/python3.12/dist-packages (from matplotlib) (3.2.5)\n",
            "Requirement already satisfied: soupsieve>1.2 in /usr/local/lib/python3.12/dist-packages (from beautifulsoup4>=4.11.1->yfinance) (2.8)\n",
            "Requirement already satisfied: typing-extensions>=4.0.0 in /usr/local/lib/python3.12/dist-packages (from beautifulsoup4>=4.11.1->yfinance) (4.15.0)\n",
            "Requirement already satisfied: cffi>=1.12.0 in /usr/local/lib/python3.12/dist-packages (from curl_cffi>=0.7->yfinance) (2.0.0)\n",
            "Requirement already satisfied: certifi>=2024.2.2 in /usr/local/lib/python3.12/dist-packages (from curl_cffi>=0.7->yfinance) (2025.10.5)\n",
            "Requirement already satisfied: six>=1.5 in /usr/local/lib/python3.12/dist-packages (from python-dateutil>=2.8.2->pandas) (1.17.0)\n",
            "Requirement already satisfied: charset_normalizer<4,>=2 in /usr/local/lib/python3.12/dist-packages (from requests>=2.31->yfinance) (3.4.4)\n",
            "Requirement already satisfied: idna<4,>=2.5 in /usr/local/lib/python3.12/dist-packages (from requests>=2.31->yfinance) (3.11)\n",
            "Requirement already satisfied: urllib3<3,>=1.21.1 in /usr/local/lib/python3.12/dist-packages (from requests>=2.31->yfinance) (2.5.0)\n",
            "Requirement already satisfied: pycparser in /usr/local/lib/python3.12/dist-packages (from cffi>=1.12.0->curl_cffi>=0.7->yfinance) (2.23)\n"
          ]
        }
      ],
      "source": [
        "!pip install yfinance pandas numpy matplotlib\n"
      ]
    },
    {
      "cell_type": "markdown",
      "source": [
        "#vcvcvc"
      ],
      "metadata": {
        "id": "zhSvHQRyWOUE"
      }
    },
    {
      "cell_type": "code",
      "source": [
        "import yfinance as yf\n",
        "import pandas as pd\n",
        "import numpy as np\n",
        "\n",
        "class GoldenCrossTrader_:\n",
        "    def __init__(self, symbol: str, start_date: str, end_date: str, capital: float = 5000):\n",
        "        self.symbol = symbol\n",
        "        self.start_date = start_date\n",
        "        self.end_date = end_date\n",
        "        self.capital = capital\n",
        "        self.data = None\n",
        "        self.position = False\n",
        "        self.shares = 0\n",
        "        self.cash = capital\n",
        "        self.trades = []\n",
        "\n",
        "    #      Download Data\n",
        "    def download_data(self):\n",
        "        df = yf.download(self.symbol, start=self.start_date, end=self.end_date, progress=False)\n",
        "        df = df.drop_duplicates().ffill()\n",
        "        self.data = df\n",
        "        print(f\"[INFO] Downloaded {len(df)} rows for {self.symbol}\")\n",
        "\n",
        "    #      MAs\n",
        "    def prepare_data(self):\n",
        "        self.data[\"MA50\"] = self.data[\"Close\"].rolling(window=50).mean()\n",
        "        self.data[\"MA200\"] = self.data[\"Close\"].rolling(window=200).mean()\n",
        "        self.data.dropna(inplace=True)\n",
        "        print(\"[INFO] Moving averages calculated\")\n",
        "\n",
        "    #  signals\n",
        "    def generate_signals(self):\n",
        "        self.data[\"Signal\"] = np.where(self.data[\"MA50\"] > self.data[\"MA200\"], 1, 0)\n",
        "        self.data[\"Position\"] = self.data[\"Signal\"].diff().fillna(0)\n",
        "        print(\"[INFO] Signals generated\")\n",
        "\n",
        "        # Simulate Trades\n",
        "    def simulate_trades(self):\n",
        "        prev_price = None\n",
        "        for date, row in self.data.iterrows():\n",
        "            #  safer element access\n",
        "            price = float(row[\"Close\"].item()) if hasattr(row[\"Close\"], \"item\") else float(row[\"Close\"])\n",
        "            signal = int(row[\"Position\"].item()) if hasattr(row[\"Position\"], \"item\") else int(row[\"Position\"])\n",
        "\n",
        "            # BUY (Golden Cross)\n",
        "            if signal == 1 and not self.position:\n",
        "                self.shares = int(self.cash // price)\n",
        "                if self.shares > 0:\n",
        "                    cost = self.shares * price\n",
        "                    self.cash -= cost\n",
        "                    self.position = True\n",
        "                    prev_price = price\n",
        "                    self.trades.append((date, \"BUY\", price, self.shares, self.cash))\n",
        "\n",
        "            # SELL (Death Cross)\n",
        "            elif signal == -1 and self.position:\n",
        "                proceeds = self.shares * price\n",
        "                self.cash += proceeds\n",
        "                profit = (price - prev_price) * self.shares if prev_price else 0\n",
        "                self.trades.append((date, \"SELL\", price, self.shares, self.cash, profit))\n",
        "                self.position = False\n",
        "                print(f\"[SELL] {self.shares} shares at {price:.2f} on {date.date()} | Cash: {self.cash:.2f} | Profit: {profit:.2f}\")\n",
        "                self.shares = 0\n",
        "\n",
        "        # Force close any open position\n",
        "        if self.position:\n",
        "            final_price = float(self.data.iloc[-1][\"Close\"].item()) if hasattr(self.data.iloc[-1][\"Close\"], \"item\") else float(self.data.iloc[-1][\"Close\"])\n",
        "            proceeds = self.shares * final_price\n",
        "            self.cash += proceeds\n",
        "            profit = (final_price - prev_price) * self.shares if prev_price else 0\n",
        "            self.trades.append((self.data.index[-1], \"FORCE_SELL\", final_price, self.shares, self.cash, profit))\n",
        "            print(f\"[FORCE SELL] Closed remaining position at {final_price:.2f} | Profit: {profit:.2f}\")\n",
        "            self.position = False"
      ],
      "metadata": {
        "id": "PMztYfZ0KB4X"
      },
      "execution_count": 2,
      "outputs": []
    }
  ]
}